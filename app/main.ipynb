{
 "cells": [
  {
   "attachments": {},
   "cell_type": "markdown",
   "metadata": {},
   "source": [
    "Importamos las librerias que utilizaremos para la limpieza"
   ]
  },
  {
   "cell_type": "code",
   "execution_count": 50,
   "metadata": {},
   "outputs": [],
   "source": [
    "import numpy as np\n",
    "import pandas as pd"
   ]
  },
  {
   "attachments": {},
   "cell_type": "markdown",
   "metadata": {},
   "source": [
    "Importamos los csv en dataframes para poder trabajarlos"
   ]
  },
  {
   "cell_type": "code",
   "execution_count": 51,
   "metadata": {},
   "outputs": [],
   "source": [
    "df_amazon = pd.read_csv('./datasets/amazon_prime_titles.csv')\n",
    "df_disney = pd.read_csv('./Datasets/disney_plus_titles.csv')\n",
    "df_hulu = pd.read_csv('./Datasets/hulu_titles.csv')\n",
    "df_netflix = pd.read_json('./Datasets/netflix_titles.json')"
   ]
  },
  {
   "cell_type": "code",
   "execution_count": 52,
   "metadata": {},
   "outputs": [
    {
     "data": {
      "text/html": [
       "<div>\n",
       "<style scoped>\n",
       "    .dataframe tbody tr th:only-of-type {\n",
       "        vertical-align: middle;\n",
       "    }\n",
       "\n",
       "    .dataframe tbody tr th {\n",
       "        vertical-align: top;\n",
       "    }\n",
       "\n",
       "    .dataframe thead th {\n",
       "        text-align: right;\n",
       "    }\n",
       "</style>\n",
       "<table border=\"1\" class=\"dataframe\">\n",
       "  <thead>\n",
       "    <tr style=\"text-align: right;\">\n",
       "      <th></th>\n",
       "      <th>show_id</th>\n",
       "      <th>type</th>\n",
       "      <th>title</th>\n",
       "      <th>director</th>\n",
       "      <th>cast</th>\n",
       "      <th>country</th>\n",
       "      <th>date_added</th>\n",
       "      <th>release_year</th>\n",
       "      <th>rating</th>\n",
       "      <th>duration</th>\n",
       "      <th>listed_in</th>\n",
       "      <th>description</th>\n",
       "    </tr>\n",
       "  </thead>\n",
       "  <tbody>\n",
       "    <tr>\n",
       "      <th>0</th>\n",
       "      <td>s1</td>\n",
       "      <td>Movie</td>\n",
       "      <td>The Grand Seduction</td>\n",
       "      <td>Don McKellar</td>\n",
       "      <td>Brendan Gleeson, Taylor Kitsch, Gordon Pinsent</td>\n",
       "      <td>Canada</td>\n",
       "      <td>March 30, 2021</td>\n",
       "      <td>2014</td>\n",
       "      <td>NaN</td>\n",
       "      <td>113 min</td>\n",
       "      <td>Comedy, Drama</td>\n",
       "      <td>A small fishing village must procure a local d...</td>\n",
       "    </tr>\n",
       "    <tr>\n",
       "      <th>1</th>\n",
       "      <td>s2</td>\n",
       "      <td>Movie</td>\n",
       "      <td>Take Care Good Night</td>\n",
       "      <td>Girish Joshi</td>\n",
       "      <td>Mahesh Manjrekar, Abhay Mahajan, Sachin Khedekar</td>\n",
       "      <td>India</td>\n",
       "      <td>March 30, 2021</td>\n",
       "      <td>2018</td>\n",
       "      <td>13+</td>\n",
       "      <td>110 min</td>\n",
       "      <td>Drama, International</td>\n",
       "      <td>A Metro Family decides to fight a Cyber Crimin...</td>\n",
       "    </tr>\n",
       "    <tr>\n",
       "      <th>2</th>\n",
       "      <td>s3</td>\n",
       "      <td>Movie</td>\n",
       "      <td>Secrets of Deception</td>\n",
       "      <td>Josh Webber</td>\n",
       "      <td>Tom Sizemore, Lorenzo Lamas, Robert LaSardo, R...</td>\n",
       "      <td>United States</td>\n",
       "      <td>March 30, 2021</td>\n",
       "      <td>2017</td>\n",
       "      <td>NaN</td>\n",
       "      <td>74 min</td>\n",
       "      <td>Action, Drama, Suspense</td>\n",
       "      <td>After a man discovers his wife is cheating on ...</td>\n",
       "    </tr>\n",
       "    <tr>\n",
       "      <th>3</th>\n",
       "      <td>s4</td>\n",
       "      <td>Movie</td>\n",
       "      <td>Pink: Staying True</td>\n",
       "      <td>Sonia Anderson</td>\n",
       "      <td>Interviews with: Pink, Adele, Beyoncé, Britney...</td>\n",
       "      <td>United States</td>\n",
       "      <td>March 30, 2021</td>\n",
       "      <td>2014</td>\n",
       "      <td>NaN</td>\n",
       "      <td>69 min</td>\n",
       "      <td>Documentary</td>\n",
       "      <td>Pink breaks the mold once again, bringing her ...</td>\n",
       "    </tr>\n",
       "    <tr>\n",
       "      <th>4</th>\n",
       "      <td>s5</td>\n",
       "      <td>Movie</td>\n",
       "      <td>Monster Maker</td>\n",
       "      <td>Giles Foster</td>\n",
       "      <td>Harry Dean Stanton, Kieran O'Brien, George Cos...</td>\n",
       "      <td>United Kingdom</td>\n",
       "      <td>March 30, 2021</td>\n",
       "      <td>1989</td>\n",
       "      <td>NaN</td>\n",
       "      <td>45 min</td>\n",
       "      <td>Drama, Fantasy</td>\n",
       "      <td>Teenage Matt Banting wants to work with a famo...</td>\n",
       "    </tr>\n",
       "  </tbody>\n",
       "</table>\n",
       "</div>"
      ],
      "text/plain": [
       "  show_id   type                 title        director  \\\n",
       "0      s1  Movie   The Grand Seduction    Don McKellar   \n",
       "1      s2  Movie  Take Care Good Night    Girish Joshi   \n",
       "2      s3  Movie  Secrets of Deception     Josh Webber   \n",
       "3      s4  Movie    Pink: Staying True  Sonia Anderson   \n",
       "4      s5  Movie         Monster Maker    Giles Foster   \n",
       "\n",
       "                                                cast         country  \\\n",
       "0     Brendan Gleeson, Taylor Kitsch, Gordon Pinsent          Canada   \n",
       "1   Mahesh Manjrekar, Abhay Mahajan, Sachin Khedekar           India   \n",
       "2  Tom Sizemore, Lorenzo Lamas, Robert LaSardo, R...   United States   \n",
       "3  Interviews with: Pink, Adele, Beyoncé, Britney...   United States   \n",
       "4  Harry Dean Stanton, Kieran O'Brien, George Cos...  United Kingdom   \n",
       "\n",
       "       date_added  release_year rating duration                listed_in  \\\n",
       "0  March 30, 2021          2014    NaN  113 min            Comedy, Drama   \n",
       "1  March 30, 2021          2018    13+  110 min     Drama, International   \n",
       "2  March 30, 2021          2017    NaN   74 min  Action, Drama, Suspense   \n",
       "3  March 30, 2021          2014    NaN   69 min              Documentary   \n",
       "4  March 30, 2021          1989    NaN   45 min           Drama, Fantasy   \n",
       "\n",
       "                                         description  \n",
       "0  A small fishing village must procure a local d...  \n",
       "1  A Metro Family decides to fight a Cyber Crimin...  \n",
       "2  After a man discovers his wife is cheating on ...  \n",
       "3  Pink breaks the mold once again, bringing her ...  \n",
       "4  Teenage Matt Banting wants to work with a famo...  "
      ]
     },
     "execution_count": 52,
     "metadata": {},
     "output_type": "execute_result"
    }
   ],
   "source": [
    "#Observamos rapidamente uno de los dataframe\n",
    "df_amazon.head()"
   ]
  },
  {
   "attachments": {},
   "cell_type": "markdown",
   "metadata": {},
   "source": [
    "Vamos a dejar solo las columnas que nos interesan para este trabajo especifico"
   ]
  },
  {
   "cell_type": "code",
   "execution_count": 53,
   "metadata": {},
   "outputs": [],
   "source": [
    "df_amazon = df_amazon[['show_id', 'type', 'title', 'cast', 'release_year', 'duration','listed_in']]\n",
    "df_disney = df_disney[['show_id', 'type', 'title', 'cast', 'release_year', 'duration','listed_in']]\n",
    "df_hulu = df_hulu[['show_id', 'type', 'title', 'cast', 'release_year', 'duration','listed_in']]\n",
    "df_netflix = df_netflix[['show_id', 'type', 'title', 'cast', 'release_year', 'duration','listed_in']]"
   ]
  },
  {
   "cell_type": "code",
   "execution_count": 54,
   "metadata": {},
   "outputs": [
    {
     "data": {
      "text/html": [
       "<div>\n",
       "<style scoped>\n",
       "    .dataframe tbody tr th:only-of-type {\n",
       "        vertical-align: middle;\n",
       "    }\n",
       "\n",
       "    .dataframe tbody tr th {\n",
       "        vertical-align: top;\n",
       "    }\n",
       "\n",
       "    .dataframe thead th {\n",
       "        text-align: right;\n",
       "    }\n",
       "</style>\n",
       "<table border=\"1\" class=\"dataframe\">\n",
       "  <thead>\n",
       "    <tr style=\"text-align: right;\">\n",
       "      <th></th>\n",
       "      <th>show_id</th>\n",
       "      <th>type</th>\n",
       "      <th>title</th>\n",
       "      <th>cast</th>\n",
       "      <th>release_year</th>\n",
       "      <th>duration</th>\n",
       "      <th>listed_in</th>\n",
       "    </tr>\n",
       "  </thead>\n",
       "  <tbody>\n",
       "    <tr>\n",
       "      <th>0</th>\n",
       "      <td>s1</td>\n",
       "      <td>Movie</td>\n",
       "      <td>The Grand Seduction</td>\n",
       "      <td>Brendan Gleeson, Taylor Kitsch, Gordon Pinsent</td>\n",
       "      <td>2014</td>\n",
       "      <td>113 min</td>\n",
       "      <td>Comedy, Drama</td>\n",
       "    </tr>\n",
       "    <tr>\n",
       "      <th>1</th>\n",
       "      <td>s2</td>\n",
       "      <td>Movie</td>\n",
       "      <td>Take Care Good Night</td>\n",
       "      <td>Mahesh Manjrekar, Abhay Mahajan, Sachin Khedekar</td>\n",
       "      <td>2018</td>\n",
       "      <td>110 min</td>\n",
       "      <td>Drama, International</td>\n",
       "    </tr>\n",
       "    <tr>\n",
       "      <th>2</th>\n",
       "      <td>s3</td>\n",
       "      <td>Movie</td>\n",
       "      <td>Secrets of Deception</td>\n",
       "      <td>Tom Sizemore, Lorenzo Lamas, Robert LaSardo, R...</td>\n",
       "      <td>2017</td>\n",
       "      <td>74 min</td>\n",
       "      <td>Action, Drama, Suspense</td>\n",
       "    </tr>\n",
       "    <tr>\n",
       "      <th>3</th>\n",
       "      <td>s4</td>\n",
       "      <td>Movie</td>\n",
       "      <td>Pink: Staying True</td>\n",
       "      <td>Interviews with: Pink, Adele, Beyoncé, Britney...</td>\n",
       "      <td>2014</td>\n",
       "      <td>69 min</td>\n",
       "      <td>Documentary</td>\n",
       "    </tr>\n",
       "    <tr>\n",
       "      <th>4</th>\n",
       "      <td>s5</td>\n",
       "      <td>Movie</td>\n",
       "      <td>Monster Maker</td>\n",
       "      <td>Harry Dean Stanton, Kieran O'Brien, George Cos...</td>\n",
       "      <td>1989</td>\n",
       "      <td>45 min</td>\n",
       "      <td>Drama, Fantasy</td>\n",
       "    </tr>\n",
       "  </tbody>\n",
       "</table>\n",
       "</div>"
      ],
      "text/plain": [
       "  show_id   type                 title  \\\n",
       "0      s1  Movie   The Grand Seduction   \n",
       "1      s2  Movie  Take Care Good Night   \n",
       "2      s3  Movie  Secrets of Deception   \n",
       "3      s4  Movie    Pink: Staying True   \n",
       "4      s5  Movie         Monster Maker   \n",
       "\n",
       "                                                cast  release_year duration  \\\n",
       "0     Brendan Gleeson, Taylor Kitsch, Gordon Pinsent          2014  113 min   \n",
       "1   Mahesh Manjrekar, Abhay Mahajan, Sachin Khedekar          2018  110 min   \n",
       "2  Tom Sizemore, Lorenzo Lamas, Robert LaSardo, R...          2017   74 min   \n",
       "3  Interviews with: Pink, Adele, Beyoncé, Britney...          2014   69 min   \n",
       "4  Harry Dean Stanton, Kieran O'Brien, George Cos...          1989   45 min   \n",
       "\n",
       "                 listed_in  \n",
       "0            Comedy, Drama  \n",
       "1     Drama, International  \n",
       "2  Action, Drama, Suspense  \n",
       "3              Documentary  \n",
       "4           Drama, Fantasy  "
      ]
     },
     "execution_count": 54,
     "metadata": {},
     "output_type": "execute_result"
    }
   ],
   "source": [
    "#Observamos como se reducen las columnas presentes\n",
    "df_amazon.head()"
   ]
  },
  {
   "attachments": {},
   "cell_type": "markdown",
   "metadata": {},
   "source": [
    "Agregamos al final de cada dataframe una columna con el nombre de la plataforma original"
   ]
  },
  {
   "cell_type": "code",
   "execution_count": 55,
   "metadata": {},
   "outputs": [],
   "source": [
    "df_amazon['plataforma']= 'Amazon'\n",
    "df_disney['plataforma']= 'Disney'\n",
    "df_hulu['plataforma']= 'Hulu'\n",
    "df_netflix['plataforma']= 'Netflix'"
   ]
  },
  {
   "cell_type": "code",
   "execution_count": 56,
   "metadata": {},
   "outputs": [
    {
     "data": {
      "text/html": [
       "<div>\n",
       "<style scoped>\n",
       "    .dataframe tbody tr th:only-of-type {\n",
       "        vertical-align: middle;\n",
       "    }\n",
       "\n",
       "    .dataframe tbody tr th {\n",
       "        vertical-align: top;\n",
       "    }\n",
       "\n",
       "    .dataframe thead th {\n",
       "        text-align: right;\n",
       "    }\n",
       "</style>\n",
       "<table border=\"1\" class=\"dataframe\">\n",
       "  <thead>\n",
       "    <tr style=\"text-align: right;\">\n",
       "      <th></th>\n",
       "      <th>show_id</th>\n",
       "      <th>type</th>\n",
       "      <th>title</th>\n",
       "      <th>cast</th>\n",
       "      <th>release_year</th>\n",
       "      <th>duration</th>\n",
       "      <th>listed_in</th>\n",
       "      <th>plataforma</th>\n",
       "    </tr>\n",
       "  </thead>\n",
       "  <tbody>\n",
       "    <tr>\n",
       "      <th>0</th>\n",
       "      <td>s1</td>\n",
       "      <td>Movie</td>\n",
       "      <td>The Grand Seduction</td>\n",
       "      <td>Brendan Gleeson, Taylor Kitsch, Gordon Pinsent</td>\n",
       "      <td>2014</td>\n",
       "      <td>113 min</td>\n",
       "      <td>Comedy, Drama</td>\n",
       "      <td>Amazon</td>\n",
       "    </tr>\n",
       "    <tr>\n",
       "      <th>1</th>\n",
       "      <td>s2</td>\n",
       "      <td>Movie</td>\n",
       "      <td>Take Care Good Night</td>\n",
       "      <td>Mahesh Manjrekar, Abhay Mahajan, Sachin Khedekar</td>\n",
       "      <td>2018</td>\n",
       "      <td>110 min</td>\n",
       "      <td>Drama, International</td>\n",
       "      <td>Amazon</td>\n",
       "    </tr>\n",
       "    <tr>\n",
       "      <th>2</th>\n",
       "      <td>s3</td>\n",
       "      <td>Movie</td>\n",
       "      <td>Secrets of Deception</td>\n",
       "      <td>Tom Sizemore, Lorenzo Lamas, Robert LaSardo, R...</td>\n",
       "      <td>2017</td>\n",
       "      <td>74 min</td>\n",
       "      <td>Action, Drama, Suspense</td>\n",
       "      <td>Amazon</td>\n",
       "    </tr>\n",
       "    <tr>\n",
       "      <th>3</th>\n",
       "      <td>s4</td>\n",
       "      <td>Movie</td>\n",
       "      <td>Pink: Staying True</td>\n",
       "      <td>Interviews with: Pink, Adele, Beyoncé, Britney...</td>\n",
       "      <td>2014</td>\n",
       "      <td>69 min</td>\n",
       "      <td>Documentary</td>\n",
       "      <td>Amazon</td>\n",
       "    </tr>\n",
       "    <tr>\n",
       "      <th>4</th>\n",
       "      <td>s5</td>\n",
       "      <td>Movie</td>\n",
       "      <td>Monster Maker</td>\n",
       "      <td>Harry Dean Stanton, Kieran O'Brien, George Cos...</td>\n",
       "      <td>1989</td>\n",
       "      <td>45 min</td>\n",
       "      <td>Drama, Fantasy</td>\n",
       "      <td>Amazon</td>\n",
       "    </tr>\n",
       "  </tbody>\n",
       "</table>\n",
       "</div>"
      ],
      "text/plain": [
       "  show_id   type                 title  \\\n",
       "0      s1  Movie   The Grand Seduction   \n",
       "1      s2  Movie  Take Care Good Night   \n",
       "2      s3  Movie  Secrets of Deception   \n",
       "3      s4  Movie    Pink: Staying True   \n",
       "4      s5  Movie         Monster Maker   \n",
       "\n",
       "                                                cast  release_year duration  \\\n",
       "0     Brendan Gleeson, Taylor Kitsch, Gordon Pinsent          2014  113 min   \n",
       "1   Mahesh Manjrekar, Abhay Mahajan, Sachin Khedekar          2018  110 min   \n",
       "2  Tom Sizemore, Lorenzo Lamas, Robert LaSardo, R...          2017   74 min   \n",
       "3  Interviews with: Pink, Adele, Beyoncé, Britney...          2014   69 min   \n",
       "4  Harry Dean Stanton, Kieran O'Brien, George Cos...          1989   45 min   \n",
       "\n",
       "                 listed_in plataforma  \n",
       "0            Comedy, Drama     Amazon  \n",
       "1     Drama, International     Amazon  \n",
       "2  Action, Drama, Suspense     Amazon  \n",
       "3              Documentary     Amazon  \n",
       "4           Drama, Fantasy     Amazon  "
      ]
     },
     "execution_count": 56,
     "metadata": {},
     "output_type": "execute_result"
    }
   ],
   "source": [
    "#Vemos los resultados\n",
    "df_amazon.head()"
   ]
  },
  {
   "attachments": {},
   "cell_type": "markdown",
   "metadata": {},
   "source": [
    "Unimos los 4 dataframes en uno solo"
   ]
  },
  {
   "cell_type": "code",
   "execution_count": 57,
   "metadata": {},
   "outputs": [],
   "source": [
    "frames = [df_amazon, df_disney, df_hulu, df_netflix]\n",
    "df_plat = pd.concat(frames, ignore_index=True)"
   ]
  },
  {
   "attachments": {},
   "cell_type": "markdown",
   "metadata": {},
   "source": [
    "A partir de ahora iniciamos una serie de consultas para conocer un poco los datos del dataframe"
   ]
  },
  {
   "cell_type": "code",
   "execution_count": 58,
   "metadata": {},
   "outputs": [
    {
     "data": {
      "text/html": [
       "<div>\n",
       "<style scoped>\n",
       "    .dataframe tbody tr th:only-of-type {\n",
       "        vertical-align: middle;\n",
       "    }\n",
       "\n",
       "    .dataframe tbody tr th {\n",
       "        vertical-align: top;\n",
       "    }\n",
       "\n",
       "    .dataframe thead th {\n",
       "        text-align: right;\n",
       "    }\n",
       "</style>\n",
       "<table border=\"1\" class=\"dataframe\">\n",
       "  <thead>\n",
       "    <tr style=\"text-align: right;\">\n",
       "      <th></th>\n",
       "      <th>show_id</th>\n",
       "      <th>type</th>\n",
       "      <th>title</th>\n",
       "      <th>cast</th>\n",
       "      <th>release_year</th>\n",
       "      <th>duration</th>\n",
       "      <th>listed_in</th>\n",
       "      <th>plataforma</th>\n",
       "    </tr>\n",
       "  </thead>\n",
       "  <tbody>\n",
       "    <tr>\n",
       "      <th>0</th>\n",
       "      <td>s1</td>\n",
       "      <td>Movie</td>\n",
       "      <td>The Grand Seduction</td>\n",
       "      <td>Brendan Gleeson, Taylor Kitsch, Gordon Pinsent</td>\n",
       "      <td>2014</td>\n",
       "      <td>113 min</td>\n",
       "      <td>Comedy, Drama</td>\n",
       "      <td>Amazon</td>\n",
       "    </tr>\n",
       "    <tr>\n",
       "      <th>1</th>\n",
       "      <td>s2</td>\n",
       "      <td>Movie</td>\n",
       "      <td>Take Care Good Night</td>\n",
       "      <td>Mahesh Manjrekar, Abhay Mahajan, Sachin Khedekar</td>\n",
       "      <td>2018</td>\n",
       "      <td>110 min</td>\n",
       "      <td>Drama, International</td>\n",
       "      <td>Amazon</td>\n",
       "    </tr>\n",
       "    <tr>\n",
       "      <th>2</th>\n",
       "      <td>s3</td>\n",
       "      <td>Movie</td>\n",
       "      <td>Secrets of Deception</td>\n",
       "      <td>Tom Sizemore, Lorenzo Lamas, Robert LaSardo, R...</td>\n",
       "      <td>2017</td>\n",
       "      <td>74 min</td>\n",
       "      <td>Action, Drama, Suspense</td>\n",
       "      <td>Amazon</td>\n",
       "    </tr>\n",
       "    <tr>\n",
       "      <th>3</th>\n",
       "      <td>s4</td>\n",
       "      <td>Movie</td>\n",
       "      <td>Pink: Staying True</td>\n",
       "      <td>Interviews with: Pink, Adele, Beyoncé, Britney...</td>\n",
       "      <td>2014</td>\n",
       "      <td>69 min</td>\n",
       "      <td>Documentary</td>\n",
       "      <td>Amazon</td>\n",
       "    </tr>\n",
       "    <tr>\n",
       "      <th>4</th>\n",
       "      <td>s5</td>\n",
       "      <td>Movie</td>\n",
       "      <td>Monster Maker</td>\n",
       "      <td>Harry Dean Stanton, Kieran O'Brien, George Cos...</td>\n",
       "      <td>1989</td>\n",
       "      <td>45 min</td>\n",
       "      <td>Drama, Fantasy</td>\n",
       "      <td>Amazon</td>\n",
       "    </tr>\n",
       "  </tbody>\n",
       "</table>\n",
       "</div>"
      ],
      "text/plain": [
       "  show_id   type                 title  \\\n",
       "0      s1  Movie   The Grand Seduction   \n",
       "1      s2  Movie  Take Care Good Night   \n",
       "2      s3  Movie  Secrets of Deception   \n",
       "3      s4  Movie    Pink: Staying True   \n",
       "4      s5  Movie         Monster Maker   \n",
       "\n",
       "                                                cast  release_year duration  \\\n",
       "0     Brendan Gleeson, Taylor Kitsch, Gordon Pinsent          2014  113 min   \n",
       "1   Mahesh Manjrekar, Abhay Mahajan, Sachin Khedekar          2018  110 min   \n",
       "2  Tom Sizemore, Lorenzo Lamas, Robert LaSardo, R...          2017   74 min   \n",
       "3  Interviews with: Pink, Adele, Beyoncé, Britney...          2014   69 min   \n",
       "4  Harry Dean Stanton, Kieran O'Brien, George Cos...          1989   45 min   \n",
       "\n",
       "                 listed_in plataforma  \n",
       "0            Comedy, Drama     Amazon  \n",
       "1     Drama, International     Amazon  \n",
       "2  Action, Drama, Suspense     Amazon  \n",
       "3              Documentary     Amazon  \n",
       "4           Drama, Fantasy     Amazon  "
      ]
     },
     "execution_count": 58,
     "metadata": {},
     "output_type": "execute_result"
    }
   ],
   "source": [
    "#Observamos las primeras filas del dataframe\n",
    "df_plat.head()"
   ]
  },
  {
   "cell_type": "code",
   "execution_count": 59,
   "metadata": {},
   "outputs": [
    {
     "data": {
      "text/plain": [
       "0"
      ]
     },
     "execution_count": 59,
     "metadata": {},
     "output_type": "execute_result"
    }
   ],
   "source": [
    "#Observamos si hay duplicados \n",
    "df_plat.duplicated().sum()"
   ]
  },
  {
   "cell_type": "code",
   "execution_count": 60,
   "metadata": {},
   "outputs": [
    {
     "name": "stdout",
     "output_type": "stream",
     "text": [
      "<class 'pandas.core.frame.DataFrame'>\n",
      "RangeIndex: 22998 entries, 0 to 22997\n",
      "Data columns (total 8 columns):\n",
      " #   Column        Non-Null Count  Dtype \n",
      "---  ------        --------------  ----- \n",
      " 0   show_id       22998 non-null  object\n",
      " 1   type          22998 non-null  object\n",
      " 2   title         22998 non-null  object\n",
      " 3   cast          17677 non-null  object\n",
      " 4   release_year  22998 non-null  int64 \n",
      " 5   duration      22516 non-null  object\n",
      " 6   listed_in     22998 non-null  object\n",
      " 7   plataforma    22998 non-null  object\n",
      "dtypes: int64(1), object(7)\n",
      "memory usage: 1.4+ MB\n"
     ]
    }
   ],
   "source": [
    "#Obsevamos si presenta datos nulos nuestro dataframe\n",
    "df_plat.info()"
   ]
  },
  {
   "cell_type": "code",
   "execution_count": 62,
   "metadata": {},
   "outputs": [
    {
     "data": {
      "text/plain": [
       "show_id            0\n",
       "type               0\n",
       "title              0\n",
       "cast            5321\n",
       "release_year       0\n",
       "duration         482\n",
       "listed_in          0\n",
       "plataforma         0\n",
       "dtype: int64"
      ]
     },
     "execution_count": 62,
     "metadata": {},
     "output_type": "execute_result"
    }
   ],
   "source": [
    "#Vemos donde y cuantos datos nulos tenemos\n",
    "df_plat.isna().sum()"
   ]
  },
  {
   "cell_type": "code",
   "execution_count": 63,
   "metadata": {},
   "outputs": [],
   "source": [
    "#Rellenamos los NA con 'None' si estan en columna 'cast' y con 0 si estan en 'duration'\n",
    "df_plat[\"cast\"].fillna(\"None\", inplace = True) \n",
    "df_plat[\"duration\"].fillna(\"0\", inplace = True) "
   ]
  },
  {
   "cell_type": "code",
   "execution_count": 65,
   "metadata": {},
   "outputs": [
    {
     "data": {
      "text/plain": [
       "show_id         0\n",
       "type            0\n",
       "title           0\n",
       "cast            0\n",
       "release_year    0\n",
       "duration        0\n",
       "listed_in       0\n",
       "plataforma      0\n",
       "dtype: int64"
      ]
     },
     "execution_count": 65,
     "metadata": {},
     "output_type": "execute_result"
    }
   ],
   "source": [
    "#Volvemos a observar si ya no hay datos nulos\n",
    "df_plat.isna().sum()"
   ]
  },
  {
   "cell_type": "code",
   "execution_count": 66,
   "metadata": {},
   "outputs": [
    {
     "name": "stdout",
     "output_type": "stream",
     "text": [
      "<class 'pandas.core.frame.DataFrame'>\n",
      "RangeIndex: 22998 entries, 0 to 22997\n",
      "Data columns (total 8 columns):\n",
      " #   Column        Non-Null Count  Dtype \n",
      "---  ------        --------------  ----- \n",
      " 0   show_id       22998 non-null  object\n",
      " 1   type          22998 non-null  object\n",
      " 2   title         22998 non-null  object\n",
      " 3   cast          22998 non-null  object\n",
      " 4   release_year  22998 non-null  int64 \n",
      " 5   duration      22998 non-null  object\n",
      " 6   listed_in     22998 non-null  object\n",
      " 7   plataforma    22998 non-null  object\n",
      "dtypes: int64(1), object(7)\n",
      "memory usage: 1.4+ MB\n"
     ]
    }
   ],
   "source": [
    "#Veamos el tipo de dato de la columna duration\n",
    "df_plat.info()"
   ]
  },
  {
   "cell_type": "code",
   "execution_count": 67,
   "metadata": {},
   "outputs": [
    {
     "data": {
      "text/html": [
       "<div>\n",
       "<style scoped>\n",
       "    .dataframe tbody tr th:only-of-type {\n",
       "        vertical-align: middle;\n",
       "    }\n",
       "\n",
       "    .dataframe tbody tr th {\n",
       "        vertical-align: top;\n",
       "    }\n",
       "\n",
       "    .dataframe thead th {\n",
       "        text-align: right;\n",
       "    }\n",
       "</style>\n",
       "<table border=\"1\" class=\"dataframe\">\n",
       "  <thead>\n",
       "    <tr style=\"text-align: right;\">\n",
       "      <th></th>\n",
       "      <th>show_id</th>\n",
       "      <th>type</th>\n",
       "      <th>title</th>\n",
       "      <th>cast</th>\n",
       "      <th>release_year</th>\n",
       "      <th>duration</th>\n",
       "      <th>listed_in</th>\n",
       "      <th>plataforma</th>\n",
       "    </tr>\n",
       "  </thead>\n",
       "  <tbody>\n",
       "    <tr>\n",
       "      <th>0</th>\n",
       "      <td>s1</td>\n",
       "      <td>Movie</td>\n",
       "      <td>The Grand Seduction</td>\n",
       "      <td>Brendan Gleeson, Taylor Kitsch, Gordon Pinsent</td>\n",
       "      <td>2014</td>\n",
       "      <td>113 min</td>\n",
       "      <td>Comedy, Drama</td>\n",
       "      <td>Amazon</td>\n",
       "    </tr>\n",
       "    <tr>\n",
       "      <th>1</th>\n",
       "      <td>s2</td>\n",
       "      <td>Movie</td>\n",
       "      <td>Take Care Good Night</td>\n",
       "      <td>Mahesh Manjrekar, Abhay Mahajan, Sachin Khedekar</td>\n",
       "      <td>2018</td>\n",
       "      <td>110 min</td>\n",
       "      <td>Drama, International</td>\n",
       "      <td>Amazon</td>\n",
       "    </tr>\n",
       "    <tr>\n",
       "      <th>2</th>\n",
       "      <td>s3</td>\n",
       "      <td>Movie</td>\n",
       "      <td>Secrets of Deception</td>\n",
       "      <td>Tom Sizemore, Lorenzo Lamas, Robert LaSardo, R...</td>\n",
       "      <td>2017</td>\n",
       "      <td>74 min</td>\n",
       "      <td>Action, Drama, Suspense</td>\n",
       "      <td>Amazon</td>\n",
       "    </tr>\n",
       "    <tr>\n",
       "      <th>3</th>\n",
       "      <td>s4</td>\n",
       "      <td>Movie</td>\n",
       "      <td>Pink: Staying True</td>\n",
       "      <td>Interviews with: Pink, Adele, Beyoncé, Britney...</td>\n",
       "      <td>2014</td>\n",
       "      <td>69 min</td>\n",
       "      <td>Documentary</td>\n",
       "      <td>Amazon</td>\n",
       "    </tr>\n",
       "    <tr>\n",
       "      <th>4</th>\n",
       "      <td>s5</td>\n",
       "      <td>Movie</td>\n",
       "      <td>Monster Maker</td>\n",
       "      <td>Harry Dean Stanton, Kieran O'Brien, George Cos...</td>\n",
       "      <td>1989</td>\n",
       "      <td>45 min</td>\n",
       "      <td>Drama, Fantasy</td>\n",
       "      <td>Amazon</td>\n",
       "    </tr>\n",
       "    <tr>\n",
       "      <th>5</th>\n",
       "      <td>s6</td>\n",
       "      <td>Movie</td>\n",
       "      <td>Living With Dinosaurs</td>\n",
       "      <td>Gregory Chisholm, Juliet Stevenson, Brian Hens...</td>\n",
       "      <td>1989</td>\n",
       "      <td>52 min</td>\n",
       "      <td>Fantasy, Kids</td>\n",
       "      <td>Amazon</td>\n",
       "    </tr>\n",
       "    <tr>\n",
       "      <th>6</th>\n",
       "      <td>s7</td>\n",
       "      <td>Movie</td>\n",
       "      <td>Hired Gun</td>\n",
       "      <td>Alice Cooper, Liberty DeVitto, Ray Parker Jr.,...</td>\n",
       "      <td>2017</td>\n",
       "      <td>98 min</td>\n",
       "      <td>Documentary, Special Interest</td>\n",
       "      <td>Amazon</td>\n",
       "    </tr>\n",
       "    <tr>\n",
       "      <th>7</th>\n",
       "      <td>s8</td>\n",
       "      <td>Movie</td>\n",
       "      <td>Grease Live!</td>\n",
       "      <td>Julianne Hough, Aaron Tveit, Vanessa Hudgens, ...</td>\n",
       "      <td>2016</td>\n",
       "      <td>131 min</td>\n",
       "      <td>Comedy</td>\n",
       "      <td>Amazon</td>\n",
       "    </tr>\n",
       "    <tr>\n",
       "      <th>8</th>\n",
       "      <td>s9</td>\n",
       "      <td>Movie</td>\n",
       "      <td>Global Meltdown</td>\n",
       "      <td>Michael Paré, Leanne Khol Young, Patrick J. Ma...</td>\n",
       "      <td>2017</td>\n",
       "      <td>87 min</td>\n",
       "      <td>Action, Science Fiction, Suspense</td>\n",
       "      <td>Amazon</td>\n",
       "    </tr>\n",
       "    <tr>\n",
       "      <th>9</th>\n",
       "      <td>s10</td>\n",
       "      <td>Movie</td>\n",
       "      <td>David's Mother</td>\n",
       "      <td>Kirstie Alley, Sam Waterston, Stockard Channing</td>\n",
       "      <td>1994</td>\n",
       "      <td>92 min</td>\n",
       "      <td>Drama</td>\n",
       "      <td>Amazon</td>\n",
       "    </tr>\n",
       "  </tbody>\n",
       "</table>\n",
       "</div>"
      ],
      "text/plain": [
       "  show_id   type                  title  \\\n",
       "0      s1  Movie    The Grand Seduction   \n",
       "1      s2  Movie   Take Care Good Night   \n",
       "2      s3  Movie   Secrets of Deception   \n",
       "3      s4  Movie     Pink: Staying True   \n",
       "4      s5  Movie          Monster Maker   \n",
       "5      s6  Movie  Living With Dinosaurs   \n",
       "6      s7  Movie              Hired Gun   \n",
       "7      s8  Movie           Grease Live!   \n",
       "8      s9  Movie        Global Meltdown   \n",
       "9     s10  Movie         David's Mother   \n",
       "\n",
       "                                                cast  release_year duration  \\\n",
       "0     Brendan Gleeson, Taylor Kitsch, Gordon Pinsent          2014  113 min   \n",
       "1   Mahesh Manjrekar, Abhay Mahajan, Sachin Khedekar          2018  110 min   \n",
       "2  Tom Sizemore, Lorenzo Lamas, Robert LaSardo, R...          2017   74 min   \n",
       "3  Interviews with: Pink, Adele, Beyoncé, Britney...          2014   69 min   \n",
       "4  Harry Dean Stanton, Kieran O'Brien, George Cos...          1989   45 min   \n",
       "5  Gregory Chisholm, Juliet Stevenson, Brian Hens...          1989   52 min   \n",
       "6  Alice Cooper, Liberty DeVitto, Ray Parker Jr.,...          2017   98 min   \n",
       "7  Julianne Hough, Aaron Tveit, Vanessa Hudgens, ...          2016  131 min   \n",
       "8  Michael Paré, Leanne Khol Young, Patrick J. Ma...          2017   87 min   \n",
       "9    Kirstie Alley, Sam Waterston, Stockard Channing          1994   92 min   \n",
       "\n",
       "                           listed_in plataforma  \n",
       "0                      Comedy, Drama     Amazon  \n",
       "1               Drama, International     Amazon  \n",
       "2            Action, Drama, Suspense     Amazon  \n",
       "3                        Documentary     Amazon  \n",
       "4                     Drama, Fantasy     Amazon  \n",
       "5                      Fantasy, Kids     Amazon  \n",
       "6      Documentary, Special Interest     Amazon  \n",
       "7                             Comedy     Amazon  \n",
       "8  Action, Science Fiction, Suspense     Amazon  \n",
       "9                              Drama     Amazon  "
      ]
     },
     "execution_count": 67,
     "metadata": {},
     "output_type": "execute_result"
    }
   ],
   "source": [
    "#Vemos los 10 primeros registros y nos enfocamos en la columna duration\n",
    "df_plat.head(10)"
   ]
  },
  {
   "cell_type": "code",
   "execution_count": 68,
   "metadata": {},
   "outputs": [],
   "source": [
    "#Realizamos y aplicamos una funcion para poder obtener solo el nro en la columna duration y con tipo de dato int\n",
    "import re\n",
    "def extraer_num(columna):\n",
    "    d = re.match(r\"\\d+\", columna)\n",
    "    if d:\n",
    "      return int(d.group())\n",
    "    else:\n",
    "      return 0\n",
    "df_plat[\"duration\"] = df_plat[\"duration\"].map(extraer_num)"
   ]
  },
  {
   "cell_type": "code",
   "execution_count": 69,
   "metadata": {},
   "outputs": [
    {
     "data": {
      "text/html": [
       "<div>\n",
       "<style scoped>\n",
       "    .dataframe tbody tr th:only-of-type {\n",
       "        vertical-align: middle;\n",
       "    }\n",
       "\n",
       "    .dataframe tbody tr th {\n",
       "        vertical-align: top;\n",
       "    }\n",
       "\n",
       "    .dataframe thead th {\n",
       "        text-align: right;\n",
       "    }\n",
       "</style>\n",
       "<table border=\"1\" class=\"dataframe\">\n",
       "  <thead>\n",
       "    <tr style=\"text-align: right;\">\n",
       "      <th></th>\n",
       "      <th>show_id</th>\n",
       "      <th>type</th>\n",
       "      <th>title</th>\n",
       "      <th>cast</th>\n",
       "      <th>release_year</th>\n",
       "      <th>duration</th>\n",
       "      <th>listed_in</th>\n",
       "      <th>plataforma</th>\n",
       "    </tr>\n",
       "  </thead>\n",
       "  <tbody>\n",
       "    <tr>\n",
       "      <th>0</th>\n",
       "      <td>s1</td>\n",
       "      <td>Movie</td>\n",
       "      <td>The Grand Seduction</td>\n",
       "      <td>Brendan Gleeson, Taylor Kitsch, Gordon Pinsent</td>\n",
       "      <td>2014</td>\n",
       "      <td>113</td>\n",
       "      <td>Comedy, Drama</td>\n",
       "      <td>Amazon</td>\n",
       "    </tr>\n",
       "    <tr>\n",
       "      <th>1</th>\n",
       "      <td>s2</td>\n",
       "      <td>Movie</td>\n",
       "      <td>Take Care Good Night</td>\n",
       "      <td>Mahesh Manjrekar, Abhay Mahajan, Sachin Khedekar</td>\n",
       "      <td>2018</td>\n",
       "      <td>110</td>\n",
       "      <td>Drama, International</td>\n",
       "      <td>Amazon</td>\n",
       "    </tr>\n",
       "    <tr>\n",
       "      <th>2</th>\n",
       "      <td>s3</td>\n",
       "      <td>Movie</td>\n",
       "      <td>Secrets of Deception</td>\n",
       "      <td>Tom Sizemore, Lorenzo Lamas, Robert LaSardo, R...</td>\n",
       "      <td>2017</td>\n",
       "      <td>74</td>\n",
       "      <td>Action, Drama, Suspense</td>\n",
       "      <td>Amazon</td>\n",
       "    </tr>\n",
       "    <tr>\n",
       "      <th>3</th>\n",
       "      <td>s4</td>\n",
       "      <td>Movie</td>\n",
       "      <td>Pink: Staying True</td>\n",
       "      <td>Interviews with: Pink, Adele, Beyoncé, Britney...</td>\n",
       "      <td>2014</td>\n",
       "      <td>69</td>\n",
       "      <td>Documentary</td>\n",
       "      <td>Amazon</td>\n",
       "    </tr>\n",
       "    <tr>\n",
       "      <th>4</th>\n",
       "      <td>s5</td>\n",
       "      <td>Movie</td>\n",
       "      <td>Monster Maker</td>\n",
       "      <td>Harry Dean Stanton, Kieran O'Brien, George Cos...</td>\n",
       "      <td>1989</td>\n",
       "      <td>45</td>\n",
       "      <td>Drama, Fantasy</td>\n",
       "      <td>Amazon</td>\n",
       "    </tr>\n",
       "    <tr>\n",
       "      <th>5</th>\n",
       "      <td>s6</td>\n",
       "      <td>Movie</td>\n",
       "      <td>Living With Dinosaurs</td>\n",
       "      <td>Gregory Chisholm, Juliet Stevenson, Brian Hens...</td>\n",
       "      <td>1989</td>\n",
       "      <td>52</td>\n",
       "      <td>Fantasy, Kids</td>\n",
       "      <td>Amazon</td>\n",
       "    </tr>\n",
       "    <tr>\n",
       "      <th>6</th>\n",
       "      <td>s7</td>\n",
       "      <td>Movie</td>\n",
       "      <td>Hired Gun</td>\n",
       "      <td>Alice Cooper, Liberty DeVitto, Ray Parker Jr.,...</td>\n",
       "      <td>2017</td>\n",
       "      <td>98</td>\n",
       "      <td>Documentary, Special Interest</td>\n",
       "      <td>Amazon</td>\n",
       "    </tr>\n",
       "    <tr>\n",
       "      <th>7</th>\n",
       "      <td>s8</td>\n",
       "      <td>Movie</td>\n",
       "      <td>Grease Live!</td>\n",
       "      <td>Julianne Hough, Aaron Tveit, Vanessa Hudgens, ...</td>\n",
       "      <td>2016</td>\n",
       "      <td>131</td>\n",
       "      <td>Comedy</td>\n",
       "      <td>Amazon</td>\n",
       "    </tr>\n",
       "    <tr>\n",
       "      <th>8</th>\n",
       "      <td>s9</td>\n",
       "      <td>Movie</td>\n",
       "      <td>Global Meltdown</td>\n",
       "      <td>Michael Paré, Leanne Khol Young, Patrick J. Ma...</td>\n",
       "      <td>2017</td>\n",
       "      <td>87</td>\n",
       "      <td>Action, Science Fiction, Suspense</td>\n",
       "      <td>Amazon</td>\n",
       "    </tr>\n",
       "    <tr>\n",
       "      <th>9</th>\n",
       "      <td>s10</td>\n",
       "      <td>Movie</td>\n",
       "      <td>David's Mother</td>\n",
       "      <td>Kirstie Alley, Sam Waterston, Stockard Channing</td>\n",
       "      <td>1994</td>\n",
       "      <td>92</td>\n",
       "      <td>Drama</td>\n",
       "      <td>Amazon</td>\n",
       "    </tr>\n",
       "  </tbody>\n",
       "</table>\n",
       "</div>"
      ],
      "text/plain": [
       "  show_id   type                  title  \\\n",
       "0      s1  Movie    The Grand Seduction   \n",
       "1      s2  Movie   Take Care Good Night   \n",
       "2      s3  Movie   Secrets of Deception   \n",
       "3      s4  Movie     Pink: Staying True   \n",
       "4      s5  Movie          Monster Maker   \n",
       "5      s6  Movie  Living With Dinosaurs   \n",
       "6      s7  Movie              Hired Gun   \n",
       "7      s8  Movie           Grease Live!   \n",
       "8      s9  Movie        Global Meltdown   \n",
       "9     s10  Movie         David's Mother   \n",
       "\n",
       "                                                cast  release_year  duration  \\\n",
       "0     Brendan Gleeson, Taylor Kitsch, Gordon Pinsent          2014       113   \n",
       "1   Mahesh Manjrekar, Abhay Mahajan, Sachin Khedekar          2018       110   \n",
       "2  Tom Sizemore, Lorenzo Lamas, Robert LaSardo, R...          2017        74   \n",
       "3  Interviews with: Pink, Adele, Beyoncé, Britney...          2014        69   \n",
       "4  Harry Dean Stanton, Kieran O'Brien, George Cos...          1989        45   \n",
       "5  Gregory Chisholm, Juliet Stevenson, Brian Hens...          1989        52   \n",
       "6  Alice Cooper, Liberty DeVitto, Ray Parker Jr.,...          2017        98   \n",
       "7  Julianne Hough, Aaron Tveit, Vanessa Hudgens, ...          2016       131   \n",
       "8  Michael Paré, Leanne Khol Young, Patrick J. Ma...          2017        87   \n",
       "9    Kirstie Alley, Sam Waterston, Stockard Channing          1994        92   \n",
       "\n",
       "                           listed_in plataforma  \n",
       "0                      Comedy, Drama     Amazon  \n",
       "1               Drama, International     Amazon  \n",
       "2            Action, Drama, Suspense     Amazon  \n",
       "3                        Documentary     Amazon  \n",
       "4                     Drama, Fantasy     Amazon  \n",
       "5                      Fantasy, Kids     Amazon  \n",
       "6      Documentary, Special Interest     Amazon  \n",
       "7                             Comedy     Amazon  \n",
       "8  Action, Science Fiction, Suspense     Amazon  \n",
       "9                              Drama     Amazon  "
      ]
     },
     "execution_count": 69,
     "metadata": {},
     "output_type": "execute_result"
    }
   ],
   "source": [
    "#Al volver a observar los registros duration ya solo contiene nros y quedara relacionada al tipo si es min o season\n",
    "df_plat.head(10)"
   ]
  },
  {
   "cell_type": "code",
   "execution_count": 70,
   "metadata": {},
   "outputs": [
    {
     "data": {
      "text/plain": [
       "show_id         object\n",
       "type            object\n",
       "title           object\n",
       "cast            object\n",
       "release_year     int64\n",
       "duration         int64\n",
       "listed_in       object\n",
       "plataforma      object\n",
       "dtype: object"
      ]
     },
     "execution_count": 70,
     "metadata": {},
     "output_type": "execute_result"
    }
   ],
   "source": [
    "#Analizamos de nuevo los tipos de datos\n",
    "df_plat.dtypes"
   ]
  },
  {
   "attachments": {},
   "cell_type": "markdown",
   "metadata": {},
   "source": [
    "FUNCIONES PARA LAS CONSULTAS"
   ]
  },
  {
   "attachments": {},
   "cell_type": "markdown",
   "metadata": {},
   "source": [
    "Funcion 1: Obtener nombre de la pelicula/serie que mas duró, y de cuanto fue esa duracion:"
   ]
  },
  {
   "cell_type": "code",
   "execution_count": 79,
   "metadata": {},
   "outputs": [],
   "source": [
    "#Recibe 3 parametros\n",
    "def get_duration(plataforma:str, anio:int, tipo:str):   \n",
    "    #vamos a diferenciarlas por el parametro tipo que pasemos  \n",
    "    if tipo == 'min':\n",
    "        t = 'Movie'\n",
    "        #dentro de una lista guardamos el id de la pelicula/serie de maxima duracion agrupada por plat, tipo y año\n",
    "        g = df_plat[df_plat['plataforma'] == plataforma][df_plat['release_year'] == anio][df_plat['type'] == t].groupby(['plataforma', 'type', 'release_year'])['duration'].idxmax().tolist()\n",
    "        #imprimamos el id que obtenemos\n",
    "        print(g)\n",
    "        #de los registros de ese id, vamos a extraer la duracion y el titulo\n",
    "        duracion = df_plat['duration'].get(g[0])\n",
    "        titulo = df_plat['title'].get(g[0])\n",
    "    if tipo == 'seasons':\n",
    "        t = 'TV Show'\n",
    "        g = df_plat[df_plat['plataforma'] == plataforma][df_plat['release_year'] == anio][df_plat['type'] == t].groupby(['plataforma', 'type', 'release_year'])['duration'].idxmax()\n",
    "        duracion = df_plat['duration'].get(g[0])\n",
    "        titulo = df_plat['title'].get(g[0])\n",
    "    return (f'La maxima duracion en {tipo} para un {t} de {plataforma} en el {anio} es: {duracion}, y cuyo titulo es: {titulo}') "
   ]
  },
  {
   "cell_type": "code",
   "execution_count": 80,
   "metadata": {},
   "outputs": [
    {
     "name": "stdout",
     "output_type": "stream",
     "text": [
      "[12660]\n"
     ]
    },
    {
     "name": "stderr",
     "output_type": "stream",
     "text": [
      "C:\\Users\\jpost\\AppData\\Local\\Temp\\ipykernel_10268\\1847762662.py:7: UserWarning: Boolean Series key will be reindexed to match DataFrame index.\n",
      "  g = df_plat[df_plat['plataforma'] == plataforma][df_plat['release_year'] == anio][df_plat['type'] == t].groupby(['plataforma', 'type', 'release_year'])['duration'].idxmax().tolist()\n"
     ]
    },
    {
     "data": {
      "text/plain": [
       "'La maxima duracion en min para un Movie de Hulu en el 2018 es: 151, y cuyo titulo es: The House That Jack Built'"
      ]
     },
     "execution_count": 80,
     "metadata": {},
     "output_type": "execute_result"
    }
   ],
   "source": [
    "get_duration('Hulu', 2018, 'min')"
   ]
  },
  {
   "cell_type": "code",
   "execution_count": 88,
   "metadata": {},
   "outputs": [
    {
     "data": {
      "text/plain": [
       "show_id                             s1543\n",
       "type                                Movie\n",
       "title           The House That Jack Built\n",
       "cast                                 None\n",
       "release_year                         2018\n",
       "duration                              151\n",
       "listed_in            Crime, Drama, Horror\n",
       "plataforma                           Hulu\n",
       "Name: 12660, dtype: object"
      ]
     },
     "execution_count": 88,
     "metadata": {},
     "output_type": "execute_result"
    }
   ],
   "source": [
    "#Obtengamos la info de ese id para ver sus datos\n",
    "df_plat.iloc[12660]"
   ]
  },
  {
   "attachments": {},
   "cell_type": "markdown",
   "metadata": {},
   "source": [
    "Funcion 2: Obtener la cantidad total de peliculas y series de acuerdo a una plataforma"
   ]
  },
  {
   "cell_type": "code",
   "execution_count": 130,
   "metadata": {},
   "outputs": [],
   "source": [
    "#Recibe 1 parametro\n",
    "def get_count_plataform(plataforma):\n",
    "    #guardamos en una variable la cantidad total segun el tipo que sea, agrupando por plataforma y tipo\n",
    "    c = df_plat[df_plat['plataforma'] == plataforma].groupby(['plataforma', 'type'])['type'].value_counts()\n",
    "    #la variable tiene 2 valores, vamos a tomar uno para las Movies y otro para los TV Show\n",
    "    return (f'La cantidad total de Movies para {plataforma} es: {c[0]}\\\n",
    "    La cantidad total de Tv Show para {plataforma} es: {c[1]}') "
   ]
  },
  {
   "cell_type": "code",
   "execution_count": 128,
   "metadata": {},
   "outputs": [
    {
     "data": {
      "text/plain": [
       "plataforma  type   \n",
       "Amazon      Movie      7814\n",
       "            TV Show    1854\n",
       "Disney      Movie      1052\n",
       "            TV Show     398\n",
       "Hulu        TV Show    1589\n",
       "            Movie      1484\n",
       "Netflix     Movie      6131\n",
       "            TV Show    2676\n",
       "Name: type, dtype: int64"
      ]
     },
     "execution_count": 128,
     "metadata": {},
     "output_type": "execute_result"
    }
   ],
   "source": [
    "#Al analizar si agrupamos solo por plataforma, vemos que ordena los valores por la cantidad, Hulu presentaria problema en la funcion\n",
    "df_plat.groupby(['plataforma'])['type'].value_counts()"
   ]
  },
  {
   "cell_type": "code",
   "execution_count": 129,
   "metadata": {},
   "outputs": [
    {
     "data": {
      "text/plain": [
       "plataforma  type     type   \n",
       "Amazon      Movie    Movie      7814\n",
       "            TV Show  TV Show    1854\n",
       "Disney      Movie    Movie      1052\n",
       "            TV Show  TV Show     398\n",
       "Hulu        Movie    Movie      1484\n",
       "            TV Show  TV Show    1589\n",
       "Netflix     Movie    Movie      6131\n",
       "            TV Show  TV Show    2676\n",
       "Name: type, dtype: int64"
      ]
     },
     "execution_count": 129,
     "metadata": {},
     "output_type": "execute_result"
    }
   ],
   "source": [
    "#Al agrupar por plataforma y tipo, ordena primero el tipo por orden alfabetico, entonces ya puedo obtener los valores correctos\n",
    "df_plat.groupby(['plataforma', 'type'])['type'].value_counts()"
   ]
  },
  {
   "cell_type": "code",
   "execution_count": 131,
   "metadata": {},
   "outputs": [
    {
     "data": {
      "text/plain": [
       "'La cantidad total de Movies para Hulu es: 1484    La cantidad total de Tv Show para Hulu es: 1589'"
      ]
     },
     "execution_count": 131,
     "metadata": {},
     "output_type": "execute_result"
    }
   ],
   "source": [
    "get_count_plataform('Hulu')"
   ]
  },
  {
   "attachments": {},
   "cell_type": "markdown",
   "metadata": {},
   "source": [
    "Funcion 3: Obtener la plataforma que mas veces repite un genero y la cantidad de veces que lo hace"
   ]
  },
  {
   "cell_type": "code",
   "execution_count": 154,
   "metadata": {},
   "outputs": [],
   "source": [
    "#Recibe 1 parametro\n",
    "def listedin(genero):\n",
    "    #guardamos en una variable un diccionario con los datos necesarios\n",
    "    count= df_plat[df_plat.listed_in.str.contains(genero, case=False)].groupby(by=['plataforma']).listed_in.count().sort_values(ascending= False).to_dict()\n",
    "    claves = list(count.keys())\n",
    "    valores = list(count.values())\n",
    "    return f'El género {genero} aparece mas veces en la plataforma {claves[0]} con un total de: {valores[0]} veces'"
   ]
  },
  {
   "cell_type": "code",
   "execution_count": 155,
   "metadata": {},
   "outputs": [],
   "source": [
    "h = df_plat[df_plat.listed_in.str.contains('Comedy', case=False)].groupby(by=['plataforma']).listed_in.count().sort_values(ascending= False).to_dict()"
   ]
  },
  {
   "cell_type": "code",
   "execution_count": 156,
   "metadata": {},
   "outputs": [
    {
     "name": "stdout",
     "output_type": "stream",
     "text": [
      "['Amazon', 'Hulu', 'Disney', 'Netflix']\n",
      "[2099, 667, 526, 399]\n"
     ]
    }
   ],
   "source": [
    "h\n",
    "print(list(h.keys()))\n",
    "print(list(h.values()))"
   ]
  },
  {
   "cell_type": "code",
   "execution_count": 157,
   "metadata": {},
   "outputs": [
    {
     "data": {
      "text/plain": [
       "'El género Comedy aparece mas veces en la plataforma Amazon con un total de: 2099 veces'"
      ]
     },
     "execution_count": 157,
     "metadata": {},
     "output_type": "execute_result"
    }
   ],
   "source": [
    "listedin('Comedy')"
   ]
  },
  {
   "attachments": {},
   "cell_type": "markdown",
   "metadata": {},
   "source": [
    "Funcion 4: Obtener el actor/actriz que mas veces se repite por plataforma y año, y en que cantidad:"
   ]
  },
  {
   "cell_type": "code",
   "execution_count": 169,
   "metadata": {},
   "outputs": [],
   "source": [
    "#Recibe 2 parametros\n",
    "def get_actor(plataforma, anio): \n",
    "    #creamos una lista de actores y vamos a usar una query que guardamos en una lista\n",
    "    actor_list = []\n",
    "    cast_list = df_plat.query(f\"plataforma == '{plataforma}' and release_year == {anio}\").cast.tolist()\n",
    "    #de esa lista de todos los actores de acuerdo a la plataforma y año especifico, en una variables guardamos todos los actores\n",
    "    for i in range(len(cast_list)):\n",
    "        actor_list_temp = cast_list[i].split(\",\")\n",
    "        #dentro de esos actores, siempre que no sean None, los vamos agregando a la lista principal\n",
    "        for j in range(len(actor_list_temp)):\n",
    "            if actor_list_temp[j] != 'None':\n",
    "                actor_list.append(actor_list_temp[j])\n",
    "    #creamos un diccionario, que mapea la cantidad de veces que aparece con cada nombre de actor\n",
    "    dict_actor = dict(zip(actor_list,map(lambda x: actor_list.count(x),actor_list)))\n",
    "    #print(dict_actor)\n",
    "    #de ese diccionario obtenemos el nombre del actor y la cantidad de apariciones\n",
    "    max_actor = max(dict_actor, key=dict_actor.get)\n",
    "    #print(max_actor)\n",
    "    max_actor_appearances = dict_actor.get(max_actor)\n",
    "    #print(max_actor_appearances)\n",
    "    return f'El actor/actriz con mayor número de apariciones en la plataforma {plataforma} el año {anio} es {max_actor} con {max_actor_appearances} apariciones.'"
   ]
  },
  {
   "cell_type": "code",
   "execution_count": 170,
   "metadata": {},
   "outputs": [
    {
     "data": {
      "text/plain": [
       "'El actor/actriz con mayor número de apariciones en la plataforma Netflix el año 2018 es  Andrea Libman con 8 apariciones.'"
      ]
     },
     "execution_count": 170,
     "metadata": {},
     "output_type": "execute_result"
    }
   ],
   "source": [
    "get_actor('Netflix', 2018)"
   ]
  }
 ],
 "metadata": {
  "kernelspec": {
   "display_name": "Python 3.10.4 64-bit",
   "language": "python",
   "name": "python3"
  },
  "language_info": {
   "codemirror_mode": {
    "name": "ipython",
    "version": 3
   },
   "file_extension": ".py",
   "mimetype": "text/x-python",
   "name": "python",
   "nbconvert_exporter": "python",
   "pygments_lexer": "ipython3",
   "version": "3.10.4"
  },
  "orig_nbformat": 4,
  "vscode": {
   "interpreter": {
    "hash": "9ae161064568ab8995da0dd3a497742cb93d7a4a8c92dd24679206c238b5a846"
   }
  }
 },
 "nbformat": 4,
 "nbformat_minor": 2
}
